{
  "metadata": {
    "kernelspec": {
      "name": "python",
      "display_name": "Python (Pyodide)",
      "language": "python"
    },
    "language_info": {
      "codemirror_mode": {
        "name": "python",
        "version": 3
      },
      "file_extension": ".py",
      "mimetype": "text/x-python",
      "name": "python",
      "nbconvert_exporter": "python",
      "pygments_lexer": "ipython3",
      "version": "3.8"
    }
  },
  "nbformat_minor": 5,
  "nbformat": 4,
  "cells": [
    {
      "id": "cde6575b-981e-46c2-919b-2c090177ff3d",
      "cell_type": "markdown",
      "source": "### Principal Component Analysis on Digit Dataset.\nPrincipal Component Analysis is a process of figuring out the most important features or principal components that has the most impact on the target variable.",
      "metadata": {}
    },
    {
      "id": "7c289ca2-1c74-4bc9-8c4c-a255cc3ff1d6",
      "cell_type": "markdown",
      "source": "## Few things to keep in mind before using the PCA Algorithm.\n* Scale features before applying the PCA.\n* Accuracy might drop.\n\n  Note. PCA is called dimensionality reduction technique as it can help us reduce dimensions.",
      "metadata": {}
    },
    {
      "id": "08bf299a-2817-4d6e-84f6-e94add25912d",
      "cell_type": "code",
      "source": "import pandas as pd\nfrom sklearn.datasets import load_digits",
      "metadata": {
        "trusted": true
      },
      "outputs": [],
      "execution_count": 1
    },
    {
      "id": "fca158e8-f46c-4740-ae1f-0d96e9fde2fb",
      "cell_type": "code",
      "source": "dataset = load_digits()\ndataset.keys()",
      "metadata": {
        "trusted": true
      },
      "outputs": [
        {
          "execution_count": 2,
          "output_type": "execute_result",
          "data": {
            "text/plain": "dict_keys(['data', 'target', 'frame', 'feature_names', 'target_names', 'images', 'DESCR'])"
          },
          "metadata": {}
        }
      ],
      "execution_count": 2
    },
    {
      "id": "40cf26e2-5afb-4363-907e-2d481bdfbd67",
      "cell_type": "code",
      "source": "dataset.data.shape",
      "metadata": {
        "trusted": true
      },
      "outputs": [
        {
          "execution_count": 3,
          "output_type": "execute_result",
          "data": {
            "text/plain": "(1797, 64)"
          },
          "metadata": {}
        }
      ],
      "execution_count": 3
    },
    {
      "id": "3fb4508d-7c4b-426c-9b57-627360cff969",
      "cell_type": "code",
      "source": "dataset.data[0]",
      "metadata": {
        "trusted": true
      },
      "outputs": [
        {
          "execution_count": 4,
          "output_type": "execute_result",
          "data": {
            "text/plain": "array([ 0.,  0.,  5., 13.,  9.,  1.,  0.,  0.,  0.,  0., 13., 15., 10.,\n       15.,  5.,  0.,  0.,  3., 15.,  2.,  0., 11.,  8.,  0.,  0.,  4.,\n       12.,  0.,  0.,  8.,  8.,  0.,  0.,  5.,  8.,  0.,  0.,  9.,  8.,\n        0.,  0.,  4., 11.,  0.,  1., 12.,  7.,  0.,  0.,  2., 14.,  5.,\n       10., 12.,  0.,  0.,  0.,  0.,  6., 13., 10.,  0.,  0.,  0.])"
          },
          "metadata": {}
        }
      ],
      "execution_count": 4
    },
    {
      "id": "1200b312-0301-48d3-8f29-c78a460333c9",
      "cell_type": "code",
      "source": "dataset.data[0].reshape(8,8)",
      "metadata": {
        "trusted": true
      },
      "outputs": [
        {
          "execution_count": 6,
          "output_type": "execute_result",
          "data": {
            "text/plain": "array([[ 0.,  0.,  5., 13.,  9.,  1.,  0.,  0.],\n       [ 0.,  0., 13., 15., 10., 15.,  5.,  0.],\n       [ 0.,  3., 15.,  2.,  0., 11.,  8.,  0.],\n       [ 0.,  4., 12.,  0.,  0.,  8.,  8.,  0.],\n       [ 0.,  5.,  8.,  0.,  0.,  9.,  8.,  0.],\n       [ 0.,  4., 11.,  0.,  1., 12.,  7.,  0.],\n       [ 0.,  2., 14.,  5., 10., 12.,  0.,  0.],\n       [ 0.,  0.,  6., 13., 10.,  0.,  0.,  0.]])"
          },
          "metadata": {}
        }
      ],
      "execution_count": 6
    },
    {
      "id": "3e3207a2-9110-488b-88d9-1093214cd8f0",
      "cell_type": "code",
      "source": "from matplotlib import pyplot as plt\n%matplotlib inline\n\nplt.gray()\nplt.matshow(dataset.data[0].reshape(8,8))",
      "metadata": {
        "trusted": true
      },
      "outputs": [
        {
          "execution_count": 8,
          "output_type": "execute_result",
          "data": {
            "text/plain": "<matplotlib.image.AxesImage at 0x97aec88>"
          },
          "metadata": {}
        },
        {
          "output_type": "display_data",
          "data": {
            "text/plain": "<Figure size 640x480 with 0 Axes>"
          },
          "metadata": {}
        },
        {
          "output_type": "display_data",
          "data": {
            "text/plain": "<Figure size 480x480 with 1 Axes>",
            "image/png": "[encoded data removed]"
          },
          "metadata": {}
        }
      ],
      "execution_count": 8
    },
    {
      "id": "f4015d15-ee6e-48e1-813d-a198af4ec832",
      "cell_type": "code",
      "source": "plt.gray()\nplt.matshow(dataset.data[2].reshape(8,8))",
      "metadata": {
        "trusted": true
      },
      "outputs": [
        {
          "execution_count": 9,
          "output_type": "execute_result",
          "data": {
            "text/plain": "<matplotlib.image.AxesImage at 0xa10c5e0>"
          },
          "metadata": {}
        },
        {
          "output_type": "display_data",
          "data": {
            "text/plain": "<Figure size 640x480 with 0 Axes>"
          },
          "metadata": {}
        },
        {
          "output_type": "display_data",
          "data": {
            "text/plain": "<Figure size 480x480 with 1 Axes>",
            "image/png": "[encoded data removed]"
          },
          "metadata": {}
        }
      ],
      "execution_count": 9
    },
    {
      "id": "e5d61c6f-a50d-48ee-a541-21e7d996c67b",
      "cell_type": "code",
      "source": "plt.gray()\nplt.matshow(dataset.data[50].reshape(8,8))",
      "metadata": {
        "trusted": true
      },
      "outputs": [
        {
          "execution_count": 10,
          "output_type": "execute_result",
          "data": {
            "text/plain": "<matplotlib.image.AxesImage at 0x9fde928>"
          },
          "metadata": {}
        },
        {
          "output_type": "display_data",
          "data": {
            "text/plain": "<Figure size 640x480 with 0 Axes>"
          },
          "metadata": {}
        },
        {
          "output_type": "display_data",
          "data": {
            "text/plain": "<Figure size 480x480 with 1 Axes>",
            "image/png": "[encoded data removed]"
          },
          "metadata": {}
        }
      ],
      "execution_count": 10
    },
    {
      "id": "44c66be1-f6a4-4296-bb3b-af1fd42ed75f",
      "cell_type": "code",
      "source": "import numpy as np\nnp.unique(dataset.target)",
      "metadata": {
        "trusted": true
      },
      "outputs": [
        {
          "execution_count": 12,
          "output_type": "execute_result",
          "data": {
            "text/plain": "array([0, 1, 2, 3, 4, 5, 6, 7, 8, 9])"
          },
          "metadata": {}
        }
      ],
      "execution_count": 12
    },
    {
      "id": "511206fc-b6e5-4142-9f57-4903270d79ca",
      "cell_type": "code",
      "source": "plt.gray()\nplt.matshow(dataset.data[9].reshape(8,8))",
      "metadata": {
        "trusted": true
      },
      "outputs": [
        {
          "execution_count": 13,
          "output_type": "execute_result",
          "data": {
            "text/plain": "<matplotlib.image.AxesImage at 0xa284cd0>"
          },
          "metadata": {}
        },
        {
          "output_type": "display_data",
          "data": {
            "text/plain": "<Figure size 640x480 with 0 Axes>"
          },
          "metadata": {}
        },
        {
          "output_type": "display_data",
          "data": {
            "text/plain": "<Figure size 480x480 with 1 Axes>",
            "image/png": "[encoded data removed]"
          },
          "metadata": {}
        }
      ],
      "execution_count": 13
    },
    {
      "id": "f94ec9f3-1a81-4103-929c-5bb54981d7ce",
      "cell_type": "code",
      "source": "dataset.target[9]",
      "metadata": {
        "trusted": true
      },
      "outputs": [
        {
          "execution_count": 14,
          "output_type": "execute_result",
          "data": {
            "text/plain": "np.int32(9)"
          },
          "metadata": {}
        }
      ],
      "execution_count": 14
    },
    {
      "id": "71f27e42-093a-4843-81d1-74ba1650aebd",
      "cell_type": "code",
      "source": "df = pd.DataFrame(dataset.data, columns = dataset.feature_names)\ndf.head()",
      "metadata": {
        "trusted": true
      },
      "outputs": [
        {
          "execution_count": 18,
          "output_type": "execute_result",
          "data": {
            "text/plain": "   pixel_0_0  pixel_0_1  pixel_0_2  pixel_0_3  pixel_0_4  pixel_0_5  \\\n0        0.0        0.0        5.0       13.0        9.0        1.0   \n1        0.0        0.0        0.0       12.0       13.0        5.0   \n2        0.0        0.0        0.0        4.0       15.0       12.0   \n3        0.0        0.0        7.0       15.0       13.0        1.0   \n4        0.0        0.0        0.0        1.0       11.0        0.0   \n\n   pixel_0_6  pixel_0_7  pixel_1_0  pixel_1_1  ...  pixel_6_6  pixel_6_7  \\\n0        0.0        0.0        0.0        0.0  ...        0.0        0.0   \n1        0.0        0.0        0.0        0.0  ...        0.0        0.0   \n2        0.0        0.0        0.0        0.0  ...        5.0        0.0   \n3        0.0        0.0        0.0        8.0  ...        9.0        0.0   \n4        0.0        0.0        0.0        0.0  ...        0.0        0.0   \n\n   pixel_7_0  pixel_7_1  pixel_7_2  pixel_7_3  pixel_7_4  pixel_7_5  \\\n0        0.0        0.0        6.0       13.0       10.0        0.0   \n1        0.0        0.0        0.0       11.0       16.0       10.0   \n2        0.0        0.0        0.0        3.0       11.0       16.0   \n3        0.0        0.0        7.0       13.0       13.0        9.0   \n4        0.0        0.0        0.0        2.0       16.0        4.0   \n\n   pixel_7_6  pixel_7_7  \n0        0.0        0.0  \n1        0.0        0.0  \n2        9.0        0.0  \n3        0.0        0.0  \n4        0.0        0.0  \n\n[5 rows x 64 columns]",
            "text/html": "<div>\n<style scoped>\n    .dataframe tbody tr th:only-of-type {\n        vertical-align: middle;\n    }\n\n    .dataframe tbody tr th {\n        vertical-align: top;\n    }\n\n    .dataframe thead th {\n        text-align: right;\n    }\n</style>\n<table border=\"1\" class=\"dataframe\">\n  <thead>\n    <tr style=\"text-align: right;\">\n      <th></th>\n      <th>pixel_0_0</th>\n      <th>pixel_0_1</th>\n      <th>pixel_0_2</th>\n      <th>pixel_0_3</th>\n      <th>pixel_0_4</th>\n      <th>pixel_0_5</th>\n      <th>pixel_0_6</th>\n      <th>pixel_0_7</th>\n      <th>pixel_1_0</th>\n      <th>pixel_1_1</th>\n      <th>...</th>\n      <th>pixel_6_6</th>\n      <th>pixel_6_7</th>\n      <th>pixel_7_0</th>\n      <th>pixel_7_1</th>\n      <th>pixel_7_2</th>\n      <th>pixel_7_3</th>\n      <th>pixel_7_4</th>\n      <th>pixel_7_5</th>\n      <th>pixel_7_6</th>\n      <th>pixel_7_7</th>\n    </tr>\n  </thead>\n  <tbody>\n    <tr>\n      <th>0</th>\n      <td>0.0</td>\n      <td>0.0</td>\n      <td>5.0</td>\n      <td>13.0</td>\n      <td>9.0</td>\n      <td>1.0</td>\n      <td>0.0</td>\n      <td>0.0</td>\n      <td>0.0</td>\n      <td>0.0</td>\n      <td>...</td>\n      <td>0.0</td>\n      <td>0.0</td>\n      <td>0.0</td>\n      <td>0.0</td>\n      <td>6.0</td>\n      <td>13.0</td>\n      <td>10.0</td>\n      <td>0.0</td>\n      <td>0.0</td>\n      <td>0.0</td>\n    </tr>\n    <tr>\n      <th>1</th>\n      <td>0.0</td>\n      <td>0.0</td>\n      <td>0.0</td>\n      <td>12.0</td>\n      <td>13.0</td>\n      <td>5.0</td>\n      <td>0.0</td>\n      <td>0.0</td>\n      <td>0.0</td>\n      <td>0.0</td>\n      <td>...</td>\n      <td>0.0</td>\n      <td>0.0</td>\n      <td>0.0</td>\n      <td>0.0</td>\n      <td>0.0</td>\n      <td>11.0</td>\n      <td>16.0</td>\n      <td>10.0</td>\n      <td>0.0</td>\n      <td>0.0</td>\n    </tr>\n    <tr>\n      <th>2</th>\n      <td>0.0</td>\n      <td>0.0</td>\n      <td>0.0</td>\n      <td>4.0</td>\n      <td>15.0</td>\n      <td>12.0</td>\n      <td>0.0</td>\n      <td>0.0</td>\n      <td>0.0</td>\n      <td>0.0</td>\n      <td>...</td>\n      <td>5.0</td>\n      <td>0.0</td>\n      <td>0.0</td>\n      <td>0.0</td>\n      <td>0.0</td>\n      <td>3.0</td>\n      <td>11.0</td>\n      <td>16.0</td>\n      <td>9.0</td>\n      <td>0.0</td>\n    </tr>\n    <tr>\n      <th>3</th>\n      <td>0.0</td>\n      <td>0.0</td>\n      <td>7.0</td>\n      <td>15.0</td>\n      <td>13.0</td>\n      <td>1.0</td>\n      <td>0.0</td>\n      <td>0.0</td>\n      <td>0.0</td>\n      <td>8.0</td>\n      <td>...</td>\n      <td>9.0</td>\n      <td>0.0</td>\n      <td>0.0</td>\n      <td>0.0</td>\n      <td>7.0</td>\n      <td>13.0</td>\n      <td>13.0</td>\n      <td>9.0</td>\n      <td>0.0</td>\n      <td>0.0</td>\n    </tr>\n    <tr>\n      <th>4</th>\n      <td>0.0</td>\n      <td>0.0</td>\n      <td>0.0</td>\n      <td>1.0</td>\n      <td>11.0</td>\n      <td>0.0</td>\n      <td>0.0</td>\n      <td>0.0</td>\n      <td>0.0</td>\n      <td>0.0</td>\n      <td>...</td>\n      <td>0.0</td>\n      <td>0.0</td>\n      <td>0.0</td>\n      <td>0.0</td>\n      <td>0.0</td>\n      <td>2.0</td>\n      <td>16.0</td>\n      <td>4.0</td>\n      <td>0.0</td>\n      <td>0.0</td>\n    </tr>\n  </tbody>\n</table>\n<p>5 rows × 64 columns</p>\n</div>"
          },
          "metadata": {}
        }
      ],
      "execution_count": 18
    },
    {
      "id": "557eb810-d769-4aa4-b355-eba9462b5b23",
      "cell_type": "code",
      "source": "df.describe()",
      "metadata": {
        "trusted": true
      },
      "outputs": [
        {
          "execution_count": 19,
          "output_type": "execute_result",
          "data": {
            "text/plain": "       pixel_0_0    pixel_0_1    pixel_0_2    pixel_0_3    pixel_0_4  \\\ncount     1797.0  1797.000000  1797.000000  1797.000000  1797.000000   \nmean         0.0     0.303840     5.204786    11.835838    11.848080   \nstd          0.0     0.907192     4.754826     4.248842     4.287388   \nmin          0.0     0.000000     0.000000     0.000000     0.000000   \n25%          0.0     0.000000     1.000000    10.000000    10.000000   \n50%          0.0     0.000000     4.000000    13.000000    13.000000   \n75%          0.0     0.000000     9.000000    15.000000    15.000000   \nmax          0.0     8.000000    16.000000    16.000000    16.000000   \n\n         pixel_0_5    pixel_0_6    pixel_0_7    pixel_1_0    pixel_1_1  ...  \\\ncount  1797.000000  1797.000000  1797.000000  1797.000000  1797.000000  ...   \nmean      5.781859     1.362270     0.129661     0.005565     1.993879  ...   \nstd       5.666418     3.325775     1.037383     0.094222     3.196160  ...   \nmin       0.000000     0.000000     0.000000     0.000000     0.000000  ...   \n25%       0.000000     0.000000     0.000000     0.000000     0.000000  ...   \n50%       4.000000     0.000000     0.000000     0.000000     0.000000  ...   \n75%      11.000000     0.000000     0.000000     0.000000     3.000000  ...   \nmax      16.000000    16.000000    15.000000     2.000000    16.000000  ...   \n\n         pixel_6_6    pixel_6_7    pixel_7_0    pixel_7_1    pixel_7_2  \\\ncount  1797.000000  1797.000000  1797.000000  1797.000000  1797.000000   \nmean      3.725097     0.206455     0.000556     0.279354     5.557596   \nstd       4.919406     0.984401     0.023590     0.934302     5.103019   \nmin       0.000000     0.000000     0.000000     0.000000     0.000000   \n25%       0.000000     0.000000     0.000000     0.000000     1.000000   \n50%       1.000000     0.000000     0.000000     0.000000     4.000000   \n75%       7.000000     0.000000     0.000000     0.000000    10.000000   \nmax      16.000000    13.000000     1.000000     9.000000    16.000000   \n\n         pixel_7_3    pixel_7_4    pixel_7_5    pixel_7_6    pixel_7_7  \ncount  1797.000000  1797.000000  1797.000000  1797.000000  1797.000000  \nmean     12.089037    11.809126     6.764051     2.067891     0.364496  \nstd       4.374694     4.933947     5.900623     4.090548     1.860122  \nmin       0.000000     0.000000     0.000000     0.000000     0.000000  \n25%      11.000000    10.000000     0.000000     0.000000     0.000000  \n50%      13.000000    14.000000     6.000000     0.000000     0.000000  \n75%      16.000000    16.000000    12.000000     2.000000     0.000000  \nmax      16.000000    16.000000    16.000000    16.000000    16.000000  \n\n[8 rows x 64 columns]",
            "text/html": "<div>\n<style scoped>\n    .dataframe tbody tr th:only-of-type {\n        vertical-align: middle;\n    }\n\n    .dataframe tbody tr th {\n        vertical-align: top;\n    }\n\n    .dataframe thead th {\n        text-align: right;\n    }\n</style>\n<table border=\"1\" class=\"dataframe\">\n  <thead>\n    <tr style=\"text-align: right;\">\n      <th></th>\n      <th>pixel_0_0</th>\n      <th>pixel_0_1</th>\n      <th>pixel_0_2</th>\n      <th>pixel_0_3</th>\n      <th>pixel_0_4</th>\n      <th>pixel_0_5</th>\n      <th>pixel_0_6</th>\n      <th>pixel_0_7</th>\n      <th>pixel_1_0</th>\n      <th>pixel_1_1</th>\n      <th>...</th>\n      <th>pixel_6_6</th>\n      <th>pixel_6_7</th>\n      <th>pixel_7_0</th>\n      <th>pixel_7_1</th>\n      <th>pixel_7_2</th>\n      <th>pixel_7_3</th>\n      <th>pixel_7_4</th>\n      <th>pixel_7_5</th>\n      <th>pixel_7_6</th>\n      <th>pixel_7_7</th>\n    </tr>\n  </thead>\n  <tbody>\n    <tr>\n      <th>count</th>\n      <td>1797.0</td>\n      <td>1797.000000</td>\n      <td>1797.000000</td>\n      <td>1797.000000</td>\n      <td>1797.000000</td>\n      <td>1797.000000</td>\n      <td>1797.000000</td>\n      <td>1797.000000</td>\n      <td>1797.000000</td>\n      <td>1797.000000</td>\n      <td>...</td>\n      <td>1797.000000</td>\n      <td>1797.000000</td>\n      <td>1797.000000</td>\n      <td>1797.000000</td>\n      <td>1797.000000</td>\n      <td>1797.000000</td>\n      <td>1797.000000</td>\n      <td>1797.000000</td>\n      <td>1797.000000</td>\n      <td>1797.000000</td>\n    </tr>\n    <tr>\n      <th>mean</th>\n      <td>0.0</td>\n      <td>0.303840</td>\n      <td>5.204786</td>\n      <td>11.835838</td>\n      <td>11.848080</td>\n      <td>5.781859</td>\n      <td>1.362270</td>\n      <td>0.129661</td>\n      <td>0.005565</td>\n      <td>1.993879</td>\n      <td>...</td>\n      <td>3.725097</td>\n      <td>0.206455</td>\n      <td>0.000556</td>\n      <td>0.279354</td>\n      <td>5.557596</td>\n      <td>12.089037</td>\n      <td>11.809126</td>\n      <td>6.764051</td>\n      <td>2.067891</td>\n      <td>0.364496</td>\n    </tr>\n    <tr>\n      <th>std</th>\n      <td>0.0</td>\n      <td>0.907192</td>\n      <td>4.754826</td>\n      <td>4.248842</td>\n      <td>4.287388</td>\n      <td>5.666418</td>\n      <td>3.325775</td>\n      <td>1.037383</td>\n      <td>0.094222</td>\n      <td>3.196160</td>\n      <td>...</td>\n      <td>4.919406</td>\n      <td>0.984401</td>\n      <td>0.023590</td>\n      <td>0.934302</td>\n      <td>5.103019</td>\n      <td>4.374694</td>\n      <td>4.933947</td>\n      <td>5.900623</td>\n      <td>4.090548</td>\n      <td>1.860122</td>\n    </tr>\n    <tr>\n      <th>min</th>\n      <td>0.0</td>\n      <td>0.000000</td>\n      <td>0.000000</td>\n      <td>0.000000</td>\n      <td>0.000000</td>\n      <td>0.000000</td>\n      <td>0.000000</td>\n      <td>0.000000</td>\n      <td>0.000000</td>\n      <td>0.000000</td>\n      <td>...</td>\n      <td>0.000000</td>\n      <td>0.000000</td>\n      <td>0.000000</td>\n      <td>0.000000</td>\n      <td>0.000000</td>\n      <td>0.000000</td>\n      <td>0.000000</td>\n      <td>0.000000</td>\n      <td>0.000000</td>\n      <td>0.000000</td>\n    </tr>\n    <tr>\n      <th>25%</th>\n      <td>0.0</td>\n      <td>0.000000</td>\n      <td>1.000000</td>\n      <td>10.000000</td>\n      <td>10.000000</td>\n      <td>0.000000</td>\n      <td>0.000000</td>\n      <td>0.000000</td>\n      <td>0.000000</td>\n      <td>0.000000</td>\n      <td>...</td>\n      <td>0.000000</td>\n      <td>0.000000</td>\n      <td>0.000000</td>\n      <td>0.000000</td>\n      <td>1.000000</td>\n      <td>11.000000</td>\n      <td>10.000000</td>\n      <td>0.000000</td>\n      <td>0.000000</td>\n      <td>0.000000</td>\n    </tr>\n    <tr>\n      <th>50%</th>\n      <td>0.0</td>\n      <td>0.000000</td>\n      <td>4.000000</td>\n      <td>13.000000</td>\n      <td>13.000000</td>\n      <td>4.000000</td>\n      <td>0.000000</td>\n      <td>0.000000</td>\n      <td>0.000000</td>\n      <td>0.000000</td>\n      <td>...</td>\n      <td>1.000000</td>\n      <td>0.000000</td>\n      <td>0.000000</td>\n      <td>0.000000</td>\n      <td>4.000000</td>\n      <td>13.000000</td>\n      <td>14.000000</td>\n      <td>6.000000</td>\n      <td>0.000000</td>\n      <td>0.000000</td>\n    </tr>\n    <tr>\n      <th>75%</th>\n      <td>0.0</td>\n      <td>0.000000</td>\n      <td>9.000000</td>\n      <td>15.000000</td>\n      <td>15.000000</td>\n      <td>11.000000</td>\n      <td>0.000000</td>\n      <td>0.000000</td>\n      <td>0.000000</td>\n      <td>3.000000</td>\n      <td>...</td>\n      <td>7.000000</td>\n      <td>0.000000</td>\n      <td>0.000000</td>\n      <td>0.000000</td>\n      <td>10.000000</td>\n      <td>16.000000</td>\n      <td>16.000000</td>\n      <td>12.000000</td>\n      <td>2.000000</td>\n      <td>0.000000</td>\n    </tr>\n    <tr>\n      <th>max</th>\n      <td>0.0</td>\n      <td>8.000000</td>\n      <td>16.000000</td>\n      <td>16.000000</td>\n      <td>16.000000</td>\n      <td>16.000000</td>\n      <td>16.000000</td>\n      <td>15.000000</td>\n      <td>2.000000</td>\n      <td>16.000000</td>\n      <td>...</td>\n      <td>16.000000</td>\n      <td>13.000000</td>\n      <td>1.000000</td>\n      <td>9.000000</td>\n      <td>16.000000</td>\n      <td>16.000000</td>\n      <td>16.000000</td>\n      <td>16.000000</td>\n      <td>16.000000</td>\n      <td>16.000000</td>\n    </tr>\n  </tbody>\n</table>\n<p>8 rows × 64 columns</p>\n</div>"
          },
          "metadata": {}
        }
      ],
      "execution_count": 19
    },
    {
      "id": "5888f284-7ff4-493f-a983-f1e44d9295d2",
      "cell_type": "code",
      "source": "X = df\ny = dataset.target",
      "metadata": {
        "trusted": true
      },
      "outputs": [],
      "execution_count": 20
    },
    {
      "id": "b0e9a052-f108-4df0-9386-c69bb7c27569",
      "cell_type": "code",
      "source": "y",
      "metadata": {
        "trusted": true
      },
      "outputs": [
        {
          "execution_count": 21,
          "output_type": "execute_result",
          "data": {
            "text/plain": "array([0, 1, 2, ..., 8, 9, 8])"
          },
          "metadata": {}
        }
      ],
      "execution_count": 21
    },
    {
      "id": "21ac3c56-4c31-4c4b-993a-f6297ca59a2f",
      "cell_type": "code",
      "source": "from sklearn.preprocessing import StandardScaler\n\nscaler = StandardScaler()\nX_scaled = scaler.fit_transform(X)\nX_scaled",
      "metadata": {
        "trusted": true
      },
      "outputs": [
        {
          "execution_count": 25,
          "output_type": "execute_result",
          "data": {
            "text/plain": "array([[ 0.        , -0.33501649, -0.04308102, ..., -1.14664746,\n        -0.5056698 , -0.19600752],\n       [ 0.        , -0.33501649, -1.09493684, ...,  0.54856067,\n        -0.5056698 , -0.19600752],\n       [ 0.        , -0.33501649, -1.09493684, ...,  1.56568555,\n         1.6951369 , -0.19600752],\n       ...,\n       [ 0.        , -0.33501649, -0.88456568, ..., -0.12952258,\n        -0.5056698 , -0.19600752],\n       [ 0.        , -0.33501649, -0.67419451, ...,  0.8876023 ,\n        -0.5056698 , -0.19600752],\n       [ 0.        , -0.33501649,  1.00877481, ...,  0.8876023 ,\n        -0.26113572, -0.19600752]])"
          },
          "metadata": {}
        }
      ],
      "execution_count": 25
    },
    {
      "id": "0dd61465-0678-4683-ac57-38e8870bbe3a",
      "cell_type": "code",
      "source": "from sklearn.model_selection import train_test_split\nX_train,X_test,y_train,y_test = train_test_split(X_scaled,y,test_size = 0.2, random_state = 30)",
      "metadata": {
        "trusted": true
      },
      "outputs": [],
      "execution_count": 26
    },
    {
      "id": "2069e0f5-9f8c-4957-8633-6c7137bcbf66",
      "cell_type": "code",
      "source": "from sklearn.linear_model import LogisticRegression\n\nmodel = LogisticRegression()\nmodel.fit(X_train, y_train)\nmodel.score(X_test, y_test)",
      "metadata": {
        "trusted": true
      },
      "outputs": [
        {
          "execution_count": 27,
          "output_type": "execute_result",
          "data": {
            "text/plain": "0.9722222222222222"
          },
          "metadata": {}
        }
      ],
      "execution_count": 27
    },
    {
      "id": "61ed1a3b-9a2d-4944-8c0e-9262f7758118",
      "cell_type": "code",
      "source": "from sklearn.decomposition import PCA\n\npca = PCA(0.95)\n\nX_pca = pca.fit_transform(X)\nX_pca.shape",
      "metadata": {
        "trusted": true
      },
      "outputs": [
        {
          "execution_count": 29,
          "output_type": "execute_result",
          "data": {
            "text/plain": "(1797, 29)"
          },
          "metadata": {}
        }
      ],
      "execution_count": 29
    },
    {
      "id": "33b6c667-bd15-4e4a-9e43-00074e0b20ef",
      "cell_type": "code",
      "source": "X_pca",
      "metadata": {
        "trusted": true
      },
      "outputs": [
        {
          "execution_count": 30,
          "output_type": "execute_result",
          "data": {
            "text/plain": "array([[ -1.25946645, -21.27488348,   9.46305462, ...,   3.67072108,\n          0.9436689 ,   1.13250195],\n       [  7.9576113 ,  20.76869896,  -4.43950604, ...,   2.18261819,\n          0.51022719,  -2.31354911],\n       [  6.99192297,   9.95598641,  -2.95855808, ...,   4.22882114,\n         -2.1576573 ,  -0.8379578 ],\n       ...,\n       [ 10.8012837 ,   6.96025223,  -5.59955453, ...,  -3.56866194,\n         -1.82444444,  -3.53885886],\n       [ -4.87210009, -12.42395362,  10.17086635, ...,   3.25330054,\n         -0.95484174,   0.93895602],\n       [ -0.34438963,  -6.36554919, -10.77370849, ...,  -3.01636722,\n         -1.29752723,  -2.58810313]])"
          },
          "metadata": {}
        }
      ],
      "execution_count": 30
    },
    {
      "id": "4241e411-201e-4f03-94e6-7a1ca4d07617",
      "cell_type": "code",
      "source": "pca.explained_variance_ratio_",
      "metadata": {
        "trusted": true
      },
      "outputs": [
        {
          "execution_count": 31,
          "output_type": "execute_result",
          "data": {
            "text/plain": "array([0.14890594, 0.13618771, 0.11794594, 0.08409979, 0.05782415,\n       0.0491691 , 0.04315987, 0.03661373, 0.03353248, 0.03078806,\n       0.02372341, 0.02272697, 0.01821863, 0.01773855, 0.01467101,\n       0.01409716, 0.01318589, 0.01248138, 0.01017718, 0.00905617,\n       0.00889538, 0.00797123, 0.00767493, 0.00722904, 0.00695889,\n       0.00596081, 0.00575615, 0.00515158, 0.0048954 ])"
          },
          "metadata": {}
        }
      ],
      "execution_count": 31
    },
    {
      "id": "40cfa3c9-368a-465d-856d-164a6f5c4dfe",
      "cell_type": "code",
      "source": "pca.n_components_",
      "metadata": {
        "trusted": true
      },
      "outputs": [
        {
          "execution_count": 32,
          "output_type": "execute_result",
          "data": {
            "text/plain": "np.int32(29)"
          },
          "metadata": {}
        }
      ],
      "execution_count": 32
    },
    {
      "id": "d024a48a-7757-472d-9769-c2ac215dacb7",
      "cell_type": "code",
      "source": "X_train_pca, X_test_pca, y_train,y_test = train_test_split(X_pca, y, test_size=0.2, random_state = 30)",
      "metadata": {
        "trusted": true
      },
      "outputs": [],
      "execution_count": 34
    },
    {
      "id": "edabeabe-c6e9-4b4f-8700-fe1d3446d43e",
      "cell_type": "code",
      "source": "model = LogisticRegression()\nmodel.fit(X_train_pca, y_train)\nmodel.score(X_test_pca, y_test)",
      "metadata": {
        "trusted": true
      },
      "outputs": [
        {
          "name": "stderr",
          "output_type": "stream",
          "text": "/lib/python3.12/site-packages/sklearn/linear_model/_logistic.py:469: ConvergenceWarning: lbfgs failed to converge (status=1):\nSTOP: TOTAL NO. of ITERATIONS REACHED LIMIT.\n\nIncrease the number of iterations (max_iter) or scale the data as shown in:\n    https://scikit-learn.org/stable/modules/preprocessing.html\nPlease also refer to the documentation for alternative solver options:\n    https://scikit-learn.org/stable/modules/linear_model.html#logistic-regression\n  n_iter_i = _check_optimize_result(\n"
        },
        {
          "execution_count": 35,
          "output_type": "execute_result",
          "data": {
            "text/plain": "0.9722222222222222"
          },
          "metadata": {}
        }
      ],
      "execution_count": 35
    },
    {
      "id": "0d377aaf-f974-484a-9fae-d1de934b4551",
      "cell_type": "code",
      "source": "model = LogisticRegression(max_iter=1000)\nmodel.fit(X_train_pca, y_train)\nmodel.score(X_test_pca, y_test)",
      "metadata": {
        "trusted": true
      },
      "outputs": [
        {
          "execution_count": 36,
          "output_type": "execute_result",
          "data": {
            "text/plain": "0.9694444444444444"
          },
          "metadata": {}
        }
      ],
      "execution_count": 36
    },
    {
      "id": "e1693cce-6620-46df-975e-222d6d187e09",
      "cell_type": "code",
      "source": "pca = PCA(n_components=2)\nX_pca = pca.fit_transform(X)\nX_pca.shape",
      "metadata": {
        "trusted": true
      },
      "outputs": [
        {
          "execution_count": 38,
          "output_type": "execute_result",
          "data": {
            "text/plain": "(1797, 2)"
          },
          "metadata": {}
        }
      ],
      "execution_count": 38
    },
    {
      "id": "c37a5b6b-1ae2-4dc6-bed8-d2fe28535762",
      "cell_type": "code",
      "source": "X_pca",
      "metadata": {
        "trusted": true
      },
      "outputs": [
        {
          "execution_count": 39,
          "output_type": "execute_result",
          "data": {
            "text/plain": "array([[ -1.25946645, -21.27488348],\n       [  7.9576113 ,  20.76869896],\n       [  6.99192297,   9.95598641],\n       ...,\n       [ 10.8012837 ,   6.96025223],\n       [ -4.87210009, -12.42395362],\n       [ -0.34438963,  -6.36554919]])"
          },
          "metadata": {}
        }
      ],
      "execution_count": 39
    },
    {
      "id": "883a58de-397b-4cc5-bc53-e52cc4b995c8",
      "cell_type": "code",
      "source": "pca.explained_variance_ratio_",
      "metadata": {
        "trusted": true
      },
      "outputs": [
        {
          "execution_count": 40,
          "output_type": "execute_result",
          "data": {
            "text/plain": "array([0.14890594, 0.13618771])"
          },
          "metadata": {}
        }
      ],
      "execution_count": 40
    },
    {
      "id": "01714bb2-2752-482d-95a1-ebb98baa653c",
      "cell_type": "code",
      "source": "X_train_pca, X_test_pca, y_train,y_test = train_test_split(X_pca, y, test_size=0.2, random_state = 30)\n\nmodel = LogisticRegression(max_iter = 1000)\nmodel.fit(X_train_pca, y_train)\nmodel.score(X_test_pca, y_test)",
      "metadata": {
        "trusted": true
      },
      "outputs": [
        {
          "execution_count": 41,
          "output_type": "execute_result",
          "data": {
            "text/plain": "0.6083333333333333"
          },
          "metadata": {}
        }
      ],
      "execution_count": 41
    },
    {
      "id": "85d55aa3-b0ab-4e2e-a0e7-2c8be3eedaaa",
      "cell_type": "code",
      "source": "",
      "metadata": {
        "trusted": true
      },
      "outputs": [],
      "execution_count": null
    }
  ]
}